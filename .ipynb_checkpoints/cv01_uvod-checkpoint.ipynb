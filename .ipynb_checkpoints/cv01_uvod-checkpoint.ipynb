{
 "cells": [
  {
   "cell_type": "markdown",
   "id": "1854b75b",
   "metadata": {},
   "source": [
    "# Úvodní cvičení ze základů programování\n",
    "\n",
    "[Python](https://en.wikipedia.org/wiki/Python_(programming_language)) je interpretovaný vysokoúrovňový programovací jazyk vytvořený v roce 1991.<br>\n",
    "Instalaci pythonu je možné stáhnout na [stránce](https://www.python.org/), aktuální nejnovější verze je Python 3.9.7 (psáno 11.9.2021).\n",
    "\n",
    "Pro spuštění příkazového okna (interaktivního režimu, interpreteru) jazyku python stačí v příkazové řádce (např. cmd ve windows) zavolat příkaz python (eventuelně python3 pro spuštění verze 3 v případě více nainstalovaných verzí jazyka python).\n",
    "\n",
    "\n",
    "Pro psaní skriptů je možné použít jakýkoli textový editor a daný příkaz či jejich posloupnost uložit do textového soubour (doporučená přípona py). Interpretace příkazů je pak možné provést z příkazové řádky pomocí python nazev.py.\n",
    "\n",
    "Intalace Pythonu v sobě obsahuje jednoduchý editor spolu s příkazovým oknem (command window) zvaný [Idle](https://docs.python.org/3/library/idle.html)\n",
    "\n",
    "Dále je možné pracovat v celé řadě vývojových prostředí, například v profesionálním [PyCharm](https://www.jetbrains.com/pycharm/promo/?source=google&medium=cpc&campaign=14124132468&gclid=CjwKCAjwyvaJBhBpEiwA8d38vEoqA7PCaUK3YsH3WRNiVC_nwwhzMfyskCpDjZxFrO9d9-lhL6v4mhoCbRYQAvD_BwE) jehož instalace je pro studenty ČVUT dostupná zdarma na tomto [odkazu](https://download.cvut.cz/jetbrains/).\n",
    "\n",
    "\n",
    "\n",
    "Jako alternativa k instalci Pythonu a hledaní vývojového prostředí je možné nainstalovat platformu [Anaconda](https://www.anaconda.com) jejíž součástí je vývojové prostředí [Spyder](https://www.spyder-ide.org/). Pokud nechcete instalovat celou platformu Anaconda, je možné nainstalovat její minimální varinatu zvanou [Miniconda](https://docs.conda.io/projects/conda/en/latest/user-guide/install/windows.html) a později doinstalovat potřebné knihovny či vývojové prostředí Spyder.\n",
    "\n",
    "Interaktivní variantu příkazového okna (interpreteru) nabízí Interactive Python - [IPython](https://en.wikipedia.org/wiki/IPython) [(web](https://ipython.org/), [dokumentace)](https://ipython.readthedocs.io/en/stable/index.html)<br>\n",
    "- paralelní a distrubované výpočty\n",
    "- současně plní roli příkazové řádky počítače\n",
    "- pomocí 'magických' příkazů volaných pomocí symbolu % nebo %% umožňuje uložit, editovat, spustit skript (program)\n",
    "\n",
    "Po vzoru programů [Mathematica](https://www.wolfram.com/mathematica/) či [Maple](https://www.maplesoft.com/), které mají prostředí vy stylu notebooku, kde jednotlivé výpočty uživatel provádí v buňkách, byl v roce 2011 vytvořen IPython notebook nabízející prostředí integrované do webového prohlížeče.\n",
    "\n",
    "V roce 2014 vzešel z IPython nooteboku projekt [Jupyter](https://en.wikipedia.org/wiki/Project_Jupyter) ([web](https://jupyter.org/)), který představuje prostředí umožňující integrovat výpočty ve více programovacích jazycích. Název vychází ze tří jazyků: [Julia](https://en.wikipedia.org/wiki/Julia_(programming_language)), [Python](https://en.wikipedia.org/wiki/Python_(programming_language)), a [R](https://en.wikipedia.org/wiki/R_(programming_language)).\n",
    "\n",
    "V roce 2018 vznikl Jupterlab představující nové rozhraní (novou generaci) integrující v sobě Jupyter notebook. Jupyterlab v sobě lépe integruje potřebné nástroje pro vývoj: textový editor, příkazovou řádku, prohlížeč souborů, atd. Pro více informací je zde krátké [video](https://www.youtube.com/watch?v=ctOM-Gza04Y)\n",
    "\n",
    "Projekt Jupyter je vhodný zejména ve výuce a výzkumu. Interaktivnost notebooku spolu s možností připojit komentář (dokumentaci) umožňuje prezentovat a sdílet výsledky výzkumu s ostatními. Příklad notebooku:\n"
   ]
  },
  {
   "cell_type": "code",
   "execution_count": null,
   "id": "ed5e96a9",
   "metadata": {},
   "outputs": [],
   "source": []
  }
 ],
 "metadata": {
  "kernelspec": {
   "display_name": "Python 3",
   "language": "python",
   "name": "python3"
  },
  "language_info": {
   "codemirror_mode": {
    "name": "ipython",
    "version": 3
   },
   "file_extension": ".py",
   "mimetype": "text/x-python",
   "name": "python",
   "nbconvert_exporter": "python",
   "pygments_lexer": "ipython3",
   "version": "3.8.5"
  }
 },
 "nbformat": 4,
 "nbformat_minor": 5
}
